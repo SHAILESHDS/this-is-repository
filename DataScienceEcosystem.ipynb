{
 "cells": [
  {
   "cell_type": "markdown",
   "id": "7f693df7-b234-4cec-8373-24777fc4f573",
   "metadata": {},
   "source": [
    "** DATA SCIENCE TOOLS AND ECOSTSTEM**\n"
   ]
  },
  {
   "cell_type": "markdown",
   "id": "93faa466-2888-4c6f-9081-73b48b5974bf",
   "metadata": {},
   "source": [
    "# IN THIS NOTEBOOK DATA SCIENCEs tools and ecosystems are summarized"
   ]
  },
  {
   "cell_type": "markdown",
   "id": "7a7e3d86-4e66-42e0-ad8e-015e554b76e5",
   "metadata": {},
   "source": [
    "# Some of the Popular Languages that Data Scientists use are:-\n",
    "## Python\n",
    "### Scala\n",
    "#### R\n",
    "##### java"
   ]
  },
  {
   "cell_type": "markdown",
   "id": "93b07b70-ef18-49ce-bbd8-f505d4946d0d",
   "metadata": {},
   "source": [
    "# Some of the commonly used data sceince libraries are:-\n",
    "## Pandas\n",
    "### Numpy\n",
    "#### scikit learn\n",
    "##### Matplotlib"
   ]
  },
  {
   "cell_type": "markdown",
   "id": "16c98903-a6d7-4598-b268-efb833e6ff22",
   "metadata": {},
   "source": [
    "| Data Science Tool     | Description                       |\n",
    "|------------------------|-----------------------------------|\n",
    "| Pandas                | Data manipulation and analysis    |\n",
    "| NumPy                 | Numerical computing               |\n",
    "| Matplotlib            | Data visualization               |\n",
    "| Scikit-learn          | Machine learning                 |\n",
    "| TensorFlow            | Deep learning                    |"
   ]
  },
  {
   "cell_type": "markdown",
   "id": "9d3494f3-c8cd-4acf-ac2a-34dd0ddaceb4",
   "metadata": {},
   "source": [
    "### Below are a few examples of evaluating arithmetic expressions in Python"
   ]
  },
  {
   "cell_type": "code",
   "execution_count": 2,
   "id": "664bf40b-efce-4bc6-9495-2c1b77dfab21",
   "metadata": {},
   "outputs": [
    {
     "data": {
      "text/plain": [
       "17"
      ]
     },
     "execution_count": 2,
     "metadata": {},
     "output_type": "execute_result"
    }
   ],
   "source": [
    "# This a simple arithmetic expression to mutiply then add integers\n",
    "(3*4)+5"
   ]
  },
  {
   "cell_type": "code",
   "execution_count": 3,
   "id": "f4af39e2-2e06-492e-a8b8-d01b5b2b6e74",
   "metadata": {},
   "outputs": [
    {
     "name": "stdout",
     "output_type": "stream",
     "text": [
      "3.3333333333333335\n"
     ]
    }
   ],
   "source": [
    "Minutes=200\n",
    "hrs=Minutes/60\n",
    "print(hrs)"
   ]
  },
  {
   "cell_type": "markdown",
   "id": "2dc0fe03-e41d-46d8-b633-142c9d9ae929",
   "metadata": {},
   "source": [
    "**TITLES**\n",
    "- python\n",
    "- R\n",
    "- Sql\n",
    "- jupyternotebook\n",
    "- R studio"
   ]
  },
  {
   "cell_type": "markdown",
   "id": "ac135f47-ee1a-42e8-9f74-cc77bdd6a559",
   "metadata": {},
   "source": [
    "##Author\n",
    "-SHAILESH KUMAR"
   ]
  },
  {
   "cell_type": "code",
   "execution_count": null,
   "id": "d565ef55-b69f-42d6-812a-1c3a91e21691",
   "metadata": {},
   "outputs": [],
   "source": []
  }
 ],
 "metadata": {
  "kernelspec": {
   "display_name": "Python 3 (ipykernel)",
   "language": "python",
   "name": "python3"
  },
  "language_info": {
   "codemirror_mode": {
    "name": "ipython",
    "version": 3
   },
   "file_extension": ".py",
   "mimetype": "text/x-python",
   "name": "python",
   "nbconvert_exporter": "python",
   "pygments_lexer": "ipython3",
   "version": "3.13.0"
  }
 },
 "nbformat": 4,
 "nbformat_minor": 5
}
